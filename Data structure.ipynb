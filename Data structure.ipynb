{
 "cells": [
  {
   "cell_type": "markdown",
   "id": "80dd61cd-a0f2-4dba-8462-02347f34d07b",
   "metadata": {},
   "source": [
    "Q1. How do you comment code in Python? What are the different types of comments?"
   ]
  },
  {
   "cell_type": "markdown",
   "id": "9c5d0689-5ee5-4b38-aec7-b3282adda531",
   "metadata": {},
   "source": [
    "To comment anyline in python we may use { # } symbol before any line to comment down that single line or we can use { ''' multiple line code ''' } to comment multiple line. It is also known as Docstring comment."
   ]
  },
  {
   "cell_type": "markdown",
   "id": "713adef9-3ef6-4972-ae06-04b5cbec68a7",
   "metadata": {},
   "source": [
    "Q2. What are variables in Python? How do you declare and assign values to variables?"
   ]
  },
  {
   "cell_type": "raw",
   "id": "b2692013-8db6-40a5-893d-bbd76b04750d",
   "metadata": {},
   "source": [
    "In Python, variables are used to store and reference data values. They act as data value for different types of data, such as numbers, strings, lists, or complex objects.\n",
    "To declare a variable in Python, you simply choose a name for the variable and use the assignment operator \"=\" to assign a value."
   ]
  },
  {
   "cell_type": "code",
   "execution_count": 2,
   "id": "08a8a192-e681-44fc-8a47-f4e78efcb4d1",
   "metadata": {},
   "outputs": [],
   "source": [
    "#Assigning a value to an integer variable\n",
    "age = 20\n",
    "\n",
    "#Assigning a value to a string variable\n",
    "name = \"Vedant\"\n",
    "\n",
    "#Assigning a value to a list variable\n",
    "numbers = [1, 2, 3, 4, 5]\n"
   ]
  },
  {
   "cell_type": "markdown",
   "id": "bdecb312-f6bc-4d3d-a866-8b5761f5e9ae",
   "metadata": {},
   "source": [
    "Q3. How do you convert one data type to another in Python?"
   ]
  },
  {
   "cell_type": "raw",
   "id": "64852411-ae28-421c-8111-cb098bbf7136",
   "metadata": {},
   "source": [
    "To convert one data type into another all we need to do is just initialize the content or variable you need to convert to that data type."
   ]
  },
  {
   "cell_type": "code",
   "execution_count": 1,
   "id": "55041612-b4e9-470c-9ba6-fec33027b792",
   "metadata": {},
   "outputs": [
    {
     "name": "stdout",
     "output_type": "stream",
     "text": [
      "899\n"
     ]
    }
   ],
   "source": [
    "a = 899\n",
    "print(a)"
   ]
  },
  {
   "cell_type": "code",
   "execution_count": 2,
   "id": "26c449f9-c15d-41a3-b812-fb333e11175d",
   "metadata": {},
   "outputs": [
    {
     "data": {
      "text/plain": [
       "int"
      ]
     },
     "execution_count": 2,
     "metadata": {},
     "output_type": "execute_result"
    }
   ],
   "source": [
    "type(a)"
   ]
  },
  {
   "cell_type": "code",
   "execution_count": 3,
   "id": "4419ddcc-2568-4960-b721-2d529edb7be8",
   "metadata": {},
   "outputs": [
    {
     "name": "stdout",
     "output_type": "stream",
     "text": [
      "899\n"
     ]
    }
   ],
   "source": [
    "a = str(899)\n",
    "print(a)"
   ]
  },
  {
   "cell_type": "code",
   "execution_count": 4,
   "id": "6571fd64-3056-4b7a-9ee1-5425f0b1a893",
   "metadata": {},
   "outputs": [
    {
     "data": {
      "text/plain": [
       "str"
      ]
     },
     "execution_count": 4,
     "metadata": {},
     "output_type": "execute_result"
    }
   ],
   "source": [
    "type(a)"
   ]
  },
  {
   "cell_type": "code",
   "execution_count": 5,
   "id": "0e2dedaf-dd80-46d5-b1bf-126be96afbaf",
   "metadata": {},
   "outputs": [],
   "source": [
    "a = complex(a)"
   ]
  },
  {
   "cell_type": "code",
   "execution_count": 6,
   "id": "fc3c3acc-1fea-4fe6-a035-e56092911eac",
   "metadata": {},
   "outputs": [
    {
     "data": {
      "text/plain": [
       "complex"
      ]
     },
     "execution_count": 6,
     "metadata": {},
     "output_type": "execute_result"
    }
   ],
   "source": [
    "type(a)"
   ]
  },
  {
   "cell_type": "markdown",
   "id": "32be2429-fc66-4403-be64-b83298f1fcd7",
   "metadata": {},
   "source": [
    "Q4. How do you write and execute a Python script from the command line?"
   ]
  },
  {
   "cell_type": "raw",
   "id": "ba7e58d7-9fb0-4297-8e3f-93c644571633",
   "metadata": {},
   "source": [
    "1. Open a command prompt or terminal window.\n",
    "2. Navigate to the directory where your Python script is saved.\n",
    "3. Type the following command:\n",
    "\n",
    "python your_script.py\n",
    "\n",
    "4. Press Enter."
   ]
  },
  {
   "cell_type": "markdown",
   "id": "5967fdbb-f15b-4b79-88a1-f5162bd0d154",
   "metadata": {},
   "source": [
    "Q5. Given a list my_list = [1, 2, 3, 4, 5], write the code to slice the list and obtain the sub-list [2, 3]."
   ]
  },
  {
   "cell_type": "code",
   "execution_count": 17,
   "id": "7ef44b4d-6bf5-4f7d-8afe-1468ddec7189",
   "metadata": {},
   "outputs": [
    {
     "name": "stdout",
     "output_type": "stream",
     "text": [
      "[[2, 3]]\n"
     ]
    }
   ],
   "source": [
    "my_list = [1, 2, 3, 4, 5]\n",
    "b = []\n",
    "b.append(my_list[1:3])\n",
    "print(b)"
   ]
  },
  {
   "cell_type": "markdown",
   "id": "4200076f-8196-4f27-8e82-33071d1fc08d",
   "metadata": {},
   "source": [
    "Q6. What is a complex number in mathematics, and how is it represented in Python?"
   ]
  },
  {
   "cell_type": "markdown",
   "id": "f0830ae6-3dbf-490e-9541-6199cb1ba55f",
   "metadata": {},
   "source": [
    "A complex number is a number that can be expressed in the form a + bi, where a and b are real numbers and i is the imaginary number.\n",
    "If we take the square of the imaginary part i.e. i^2, then it comes to be -1.\n",
    "In Python, complex numbers are represented using the complex() function.\n",
    "For example, the following code creates a complex number with a real part of 5 and an imaginary part of 3:"
   ]
  },
  {
   "cell_type": "code",
   "execution_count": 20,
   "id": "18163553-b226-4f14-85b7-1480aabd906f",
   "metadata": {},
   "outputs": [
    {
     "name": "stdout",
     "output_type": "stream",
     "text": [
      "(5+3j)\n"
     ]
    }
   ],
   "source": [
    "z = complex(5, 3)\n",
    "print(z)"
   ]
  },
  {
   "cell_type": "markdown",
   "id": "7d900940-5d6d-461b-9812-ba8d847a6ec6",
   "metadata": {},
   "source": [
    "Q7. What is the correct way to declare a variable named age and assign the value 25 to it?"
   ]
  },
  {
   "cell_type": "code",
   "execution_count": 21,
   "id": "5253b607-1ea6-4b59-a72a-60ccdab1aea8",
   "metadata": {},
   "outputs": [
    {
     "name": "stdin",
     "output_type": "stream",
     "text": [
      "Enter the age: 25\n"
     ]
    },
    {
     "name": "stdout",
     "output_type": "stream",
     "text": [
      "The age of the person is :  25\n"
     ]
    }
   ],
   "source": [
    "#To declare a variable named age\n",
    "age = int(input(\"Enter the age:\"))\n",
    "print(\"The age of the person is : \",age)"
   ]
  },
  {
   "cell_type": "raw",
   "id": "62766e86-979a-4007-b2a6-2c7ba161d85b",
   "metadata": {
    "tags": []
   },
   "source": []
  },
  {
   "cell_type": "markdown",
   "id": "a22736e1-c90b-4f94-a5d1-b09fd3de8bcb",
   "metadata": {},
   "source": [
    "Q8. Declare a variable named price and assign the value 9.99 to it. What data type does this variable belong to?"
   ]
  },
  {
   "cell_type": "code",
   "execution_count": 22,
   "id": "bea74e65-8431-44a0-a25a-1de85c194896",
   "metadata": {},
   "outputs": [
    {
     "data": {
      "text/plain": [
       "float"
      ]
     },
     "execution_count": 22,
     "metadata": {},
     "output_type": "execute_result"
    }
   ],
   "source": [
    "price = 9.99\n",
    "type(price)"
   ]
  },
  {
   "cell_type": "markdown",
   "id": "1278e708-ff52-4d9a-a59f-d3199081a2e6",
   "metadata": {},
   "source": [
    "Q9. Create a variable named name and assign your full name to it as a string. How would you print the value of this variable?"
   ]
  },
  {
   "cell_type": "code",
   "execution_count": 28,
   "id": "e401448b-c625-44aa-adbf-58aa217edf90",
   "metadata": {},
   "outputs": [
    {
     "name": "stdout",
     "output_type": "stream",
     "text": [
      "Vedant Tripathi\n"
     ]
    }
   ],
   "source": [
    "name = \"Vedant Tripathi\"\n",
    "print(name)"
   ]
  },
  {
   "cell_type": "code",
   "execution_count": 29,
   "id": "c75666f8-10fe-4431-85eb-092e013b0511",
   "metadata": {},
   "outputs": [
    {
     "data": {
      "text/plain": [
       "str"
      ]
     },
     "execution_count": 29,
     "metadata": {},
     "output_type": "execute_result"
    }
   ],
   "source": [
    "type(name)"
   ]
  },
  {
   "cell_type": "markdown",
   "id": "7937f5e2-bff0-4c7d-b3f8-e921b948f379",
   "metadata": {},
   "source": [
    "Q10. Given the string \"Hello, World!\", extract the substring \"World\"."
   ]
  },
  {
   "cell_type": "code",
   "execution_count": 31,
   "id": "634a00a2-5f07-4c6a-81fc-8b021202f937",
   "metadata": {},
   "outputs": [
    {
     "name": "stdout",
     "output_type": "stream",
     "text": [
      "World\n"
     ]
    }
   ],
   "source": [
    "c = \"Hello, World!\"\n",
    "print(c[7:12])"
   ]
  },
  {
   "cell_type": "markdown",
   "id": "43242a11-a992-4d5d-9e79-1df42f7cbf60",
   "metadata": {},
   "source": [
    "Q11. Create a variable named \"is_student\" and assign it a boolean value indicating whether you are currently a student or not."
   ]
  },
  {
   "cell_type": "code",
   "execution_count": 35,
   "id": "dad10645-535b-4d21-85bb-6ceaf353364b",
   "metadata": {},
   "outputs": [],
   "source": [
    "is_student = True"
   ]
  },
  {
   "cell_type": "code",
   "execution_count": 36,
   "id": "d6bbdbba-bff1-4701-88be-9e96c362b382",
   "metadata": {},
   "outputs": [
    {
     "name": "stdout",
     "output_type": "stream",
     "text": [
      "True\n"
     ]
    }
   ],
   "source": [
    "print(is_student)"
   ]
  },
  {
   "cell_type": "code",
   "execution_count": null,
   "id": "5a38b207-fee5-4003-8cde-6425d1fd406b",
   "metadata": {
    "tags": []
   },
   "outputs": [],
   "source": []
  }
 ],
 "metadata": {
  "kernelspec": {
   "display_name": "Python 3 (ipykernel)",
   "language": "python",
   "name": "python3"
  },
  "language_info": {
   "codemirror_mode": {
    "name": "ipython",
    "version": 3
   },
   "file_extension": ".py",
   "mimetype": "text/x-python",
   "name": "python",
   "nbconvert_exporter": "python",
   "pygments_lexer": "ipython3",
   "version": "3.10.8"
  }
 },
 "nbformat": 4,
 "nbformat_minor": 5
}
