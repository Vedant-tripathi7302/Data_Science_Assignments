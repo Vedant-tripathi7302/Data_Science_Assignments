{
 "cells": [
  {
   "cell_type": "markdown",
   "id": "8a98dec4-2f75-4ff2-ac19-8d92641f4c14",
   "metadata": {},
   "source": [
    "Q1. Create one variable containing following type of data:\n",
    "(i) string\n",
    "(ii) list\n",
    "(iii) float\n",
    "(iv) tuple"
   ]
  },
  {
   "cell_type": "code",
   "execution_count": 7,
   "id": "e22effb6-6ab0-4c28-8252-6bd910fc80e5",
   "metadata": {},
   "outputs": [],
   "source": [
    "Var_1 = [\"Hello\", 65, 7.89, (3, 9, \"World\", 42.35)]"
   ]
  },
  {
   "cell_type": "code",
   "execution_count": 4,
   "id": "3217913c-d728-489f-969c-af380ff8866a",
   "metadata": {},
   "outputs": [
    {
     "name": "stdout",
     "output_type": "stream",
     "text": [
      "['Hello', 65, 7.89, (3, 9, 'World', 42.35)]\n"
     ]
    }
   ],
   "source": [
    "print(Var_1)"
   ]
  },
  {
   "cell_type": "code",
   "execution_count": 4,
   "id": "1d5cb683-5e92-4f20-afb5-dc16f4ef327d",
   "metadata": {},
   "outputs": [
    {
     "data": {
      "text/plain": [
       "str"
      ]
     },
     "execution_count": 4,
     "metadata": {},
     "output_type": "execute_result"
    }
   ],
   "source": [
    "type(Var_1[0])"
   ]
  },
  {
   "cell_type": "code",
   "execution_count": 8,
   "id": "6af2150d-052b-4031-86d1-b382eab6e94c",
   "metadata": {},
   "outputs": [
    {
     "data": {
      "text/plain": [
       "int"
      ]
     },
     "execution_count": 8,
     "metadata": {},
     "output_type": "execute_result"
    }
   ],
   "source": [
    "type(Var_1[1])"
   ]
  },
  {
   "cell_type": "code",
   "execution_count": 8,
   "id": "d8dc90a4-ee31-42ac-97cb-2b8f77869ff9",
   "metadata": {},
   "outputs": [
    {
     "data": {
      "text/plain": [
       "tuple"
      ]
     },
     "execution_count": 8,
     "metadata": {},
     "output_type": "execute_result"
    }
   ],
   "source": [
    "type(Var_1[3])"
   ]
  },
  {
   "cell_type": "code",
   "execution_count": 9,
   "id": "af7c5bf4-3675-42f1-8677-617b039f1d71",
   "metadata": {},
   "outputs": [
    {
     "data": {
      "text/plain": [
       "float"
      ]
     },
     "execution_count": 9,
     "metadata": {},
     "output_type": "execute_result"
    }
   ],
   "source": [
    "type(Var_1[2])"
   ]
  },
  {
   "cell_type": "markdown",
   "id": "318b4258-f494-455c-a24a-3b850e253cac",
   "metadata": {},
   "source": [
    "Q2. Given are some following variables containing data:\n",
    "(i) var1 = ‘ ‘\n",
    "(ii) var2 = ‘[ DS , ML , Python]’\n",
    "(iii) var3 = [‘DS', ’ML’ , ‘Python’ ]\n",
    "(iv) var4 = 1.\n",
    "\n",
    "What will be the data type of the above given variable."
   ]
  },
  {
   "cell_type": "code",
   "execution_count": 10,
   "id": "ae998d3f-c58e-40d8-a21f-94ec6a321878",
   "metadata": {},
   "outputs": [
    {
     "data": {
      "text/plain": [
       "str"
      ]
     },
     "execution_count": 10,
     "metadata": {},
     "output_type": "execute_result"
    }
   ],
   "source": [
    "var1 = ''\n",
    "type(var1)"
   ]
  },
  {
   "cell_type": "code",
   "execution_count": 11,
   "id": "439e6910-8c96-4c55-bfde-338433aa719f",
   "metadata": {},
   "outputs": [],
   "source": [
    "var2 = '[DS, ML, Python]'"
   ]
  },
  {
   "cell_type": "code",
   "execution_count": 12,
   "id": "87a77a37-09bd-4399-b608-051bd89f3145",
   "metadata": {},
   "outputs": [
    {
     "data": {
      "text/plain": [
       "str"
      ]
     },
     "execution_count": 12,
     "metadata": {},
     "output_type": "execute_result"
    }
   ],
   "source": [
    "type(var2)"
   ]
  },
  {
   "cell_type": "code",
   "execution_count": 14,
   "id": "5c46b9e1-b955-43dd-b33d-38fdfcaeaf9e",
   "metadata": {},
   "outputs": [],
   "source": [
    "var3 = ['DS', 'ML' , 'Python']"
   ]
  },
  {
   "cell_type": "code",
   "execution_count": 15,
   "id": "1f4b12f4-7275-4fd1-85ce-e264160f366f",
   "metadata": {},
   "outputs": [
    {
     "data": {
      "text/plain": [
       "list"
      ]
     },
     "execution_count": 15,
     "metadata": {},
     "output_type": "execute_result"
    }
   ],
   "source": [
    "type(var3)"
   ]
  },
  {
   "cell_type": "code",
   "execution_count": 16,
   "id": "0cf5cd47-2649-4f6d-b99b-e1f63805d73d",
   "metadata": {},
   "outputs": [
    {
     "data": {
      "text/plain": [
       "float"
      ]
     },
     "execution_count": 16,
     "metadata": {},
     "output_type": "execute_result"
    }
   ],
   "source": [
    "var4 = 1.\n",
    "type(var4)"
   ]
  },
  {
   "cell_type": "markdown",
   "id": "cc268240-37e3-4215-af0b-46abebe52b34",
   "metadata": {},
   "source": [
    "Q3. Explain the use of the following operators using an example:\n",
    "(i) /\n",
    "(ii) %\n",
    "(iii) //\n",
    "(iv) **"
   ]
  },
  {
   "cell_type": "markdown",
   "id": "fa325207-a6d3-4af3-90ad-f6b02716fee2",
   "metadata": {},
   "source": [
    "All the operators which are given in the question are all Arithmetic operators.\n",
    "The first operator is { / }. It is used for number division. The output when { / } operator is used comes the remaining quotient of that 2 numbers."
   ]
  },
  {
   "cell_type": "code",
   "execution_count": 24,
   "id": "a22d1d4f-d029-4fe2-9efe-b51ea062dfd8",
   "metadata": {},
   "outputs": [
    {
     "name": "stdout",
     "output_type": "stream",
     "text": [
      "5.75\n"
     ]
    }
   ],
   "source": [
    "a = 23\n",
    "b = 4\n",
    "c = a/b\n",
    "print(c)"
   ]
  },
  {
   "cell_type": "markdown",
   "id": "57911d12-37ef-4822-8cf5-0e6d81f18650",
   "metadata": {},
   "source": [
    "The second operator given is { % }. It is a modulus operator. The output when { % } operator is used comes the remaining remainder of that 2 numbers."
   ]
  },
  {
   "cell_type": "code",
   "execution_count": 23,
   "id": "3f5917e5-1d61-4534-8eef-197cd0df5bba",
   "metadata": {},
   "outputs": [
    {
     "name": "stdout",
     "output_type": "stream",
     "text": [
      "3\n"
     ]
    }
   ],
   "source": [
    "a = 23\n",
    "b = 4\n",
    "c = a%b\n",
    "print(c)"
   ]
  },
  {
   "cell_type": "markdown",
   "id": "d65f6b27-1909-469d-8327-98d287ca510a",
   "metadata": {},
   "source": [
    "The third operator given is { // }. It is a Floor division. It rounds down the result of a division operation to the nearest integer"
   ]
  },
  {
   "cell_type": "code",
   "execution_count": 25,
   "id": "31f23596-507e-428b-88ad-74a8735f780a",
   "metadata": {},
   "outputs": [
    {
     "name": "stdout",
     "output_type": "stream",
     "text": [
      "5\n"
     ]
    }
   ],
   "source": [
    "a = 23\n",
    "b = 4\n",
    "c = a//b\n",
    "print(c)"
   ]
  },
  {
   "cell_type": "markdown",
   "id": "c946abf5-bb2e-48b7-a478-07cf7e51d362",
   "metadata": {},
   "source": [
    "The Fourth operator given is { ** }. It is a Exponentiation operator. Exponentiation is the process of raising a number to a power whatever needed."
   ]
  },
  {
   "cell_type": "code",
   "execution_count": 31,
   "id": "6c83337c-6049-45f6-a565-3e34ada48b7e",
   "metadata": {},
   "outputs": [
    {
     "name": "stdout",
     "output_type": "stream",
     "text": [
      "64\n"
     ]
    }
   ],
   "source": [
    "print(4**3)"
   ]
  },
  {
   "cell_type": "markdown",
   "id": "415f620d-d3ca-4dde-b026-26f67455db3e",
   "metadata": {},
   "source": [
    "Q4. Create a list of length 10 of your choice containing multiple types of data. Using for loop print the\n",
    "element and its data type."
   ]
  },
  {
   "cell_type": "code",
   "execution_count": 3,
   "id": "c9e66c89-f62a-4faf-842f-1ce1884edfd8",
   "metadata": {},
   "outputs": [
    {
     "name": "stdout",
     "output_type": "stream",
     "text": [
      "3 - <class 'int'>\n",
      "vedant - <class 'str'>\n",
      "6.85 - <class 'float'>\n",
      "5.98 - <class 'float'>\n",
      "True - <class 'bool'>\n",
      "4 - <class 'int'>\n",
      "(7+9j) - <class 'complex'>\n",
      "Avika - <class 'str'>\n",
      "(9+4j) - <class 'complex'>\n",
      "85 - <class 'int'>\n"
     ]
    }
   ],
   "source": [
    "a = [3, 'vedant', 6.85, 5.98, True, 4, 7+9j, \"Avika\", 9+4j, 85]\n",
    "for i in a:\n",
    "    print(i,\"-\", type(i))\n",
    "    "
   ]
  },
  {
   "cell_type": "markdown",
   "id": "a8ea1b70-5352-4bac-9d41-2d699c8f0b8d",
   "metadata": {},
   "source": [
    "Q5. Using a while loop, verify if the number A is purely divisible by number B and if so then how many\n",
    "times it can be divisible."
   ]
  },
  {
   "cell_type": "code",
   "execution_count": 15,
   "id": "32887977-53be-4683-80a9-51cb9e977c11",
   "metadata": {},
   "outputs": [
    {
     "name": "stdin",
     "output_type": "stream",
     "text": [
      "Enter number A:  66\n",
      "Enter number B:  3\n"
     ]
    },
    {
     "name": "stdout",
     "output_type": "stream",
     "text": [
      "Number A can be divided by number B 1 times.\n"
     ]
    }
   ],
   "source": [
    "A = int(input(\"Enter number A: \"))\n",
    "B = int(input(\"Enter number B: \"))\n",
    "\n",
    "count = 0\n",
    "while  A % B == 0:\n",
    "    A = A / B\n",
    "    count += 1\n",
    "\n",
    "print(\"Number A can be divided by number B\", count, \"times.\")"
   ]
  },
  {
   "cell_type": "markdown",
   "id": "e9467205-d49e-405e-8925-5f3d49908681",
   "metadata": {},
   "source": [
    "Q6. Create a list containing 25 int type data. Using for loop and if-else condition print if the element is divisible by 3 or not."
   ]
  },
  {
   "cell_type": "code",
   "execution_count": 2,
   "id": "a3021f8f-2455-437b-9eff-c3c04f851460",
   "metadata": {},
   "outputs": [
    {
     "name": "stdout",
     "output_type": "stream",
     "text": [
      "[0, 1, 2, 3, 4, 5, 6, 7, 8, 9, 10, 11, 12, 13, 14, 15, 16, 17, 18, 19, 20, 21, 22, 23, 24]\n"
     ]
    }
   ],
   "source": [
    "L = list(range(25))\n",
    "print(L)"
   ]
  },
  {
   "cell_type": "code",
   "execution_count": 5,
   "id": "57e40cdc-e5ec-4cb0-a45f-0616abfb2384",
   "metadata": {},
   "outputs": [
    {
     "name": "stdout",
     "output_type": "stream",
     "text": [
      "0 is divisible by 3\n",
      "1 is not divisible by 3\n",
      "2 is not divisible by 3\n",
      "3 is divisible by 3\n",
      "4 is not divisible by 3\n",
      "5 is not divisible by 3\n",
      "6 is divisible by 3\n",
      "7 is not divisible by 3\n",
      "8 is not divisible by 3\n",
      "9 is divisible by 3\n",
      "10 is not divisible by 3\n",
      "11 is not divisible by 3\n",
      "12 is divisible by 3\n",
      "13 is not divisible by 3\n",
      "14 is not divisible by 3\n",
      "15 is divisible by 3\n",
      "16 is not divisible by 3\n",
      "17 is not divisible by 3\n",
      "18 is divisible by 3\n",
      "19 is not divisible by 3\n",
      "20 is not divisible by 3\n",
      "21 is divisible by 3\n",
      "22 is not divisible by 3\n",
      "23 is not divisible by 3\n",
      "24 is divisible by 3\n"
     ]
    }
   ],
   "source": [
    "for i in L:\n",
    "    if i % 3 == 0:\n",
    "        print(f\"{i} is divisible by 3\")\n",
    "    else:\n",
    "        print(f\"{i} is not divisible by 3\")"
   ]
  },
  {
   "cell_type": "markdown",
   "id": "376a8ed1-ffc6-4645-b4f6-179ab7f0d469",
   "metadata": {},
   "source": [
    "Q7. What do you understand about mutable and immutable data types? Give examples for both showing this property."
   ]
  },
  {
   "cell_type": "markdown",
   "id": "63449ffd-63d9-46c0-93e3-6a888ffb791e",
   "metadata": {},
   "source": [
    "An immutable data type means that its value cannot be changed after it is created. If any modification is performed on an immutable object, a new object is created with the modified value.Examples of immutable data types in Python include integers, floats, strings, and tuples.\n",
    "On the other hand, a mutable data type is one that can be modified after it is created. Any changes made to a mutable object affect the object itself. Examples of mutable data types in Python include lists, dictionaries, and sets. "
   ]
  },
  {
   "cell_type": "code",
   "execution_count": 6,
   "id": "c35a139c-520a-4dec-b302-967c30b972db",
   "metadata": {},
   "outputs": [
    {
     "name": "stdout",
     "output_type": "stream",
     "text": [
      "[1, 2, 3]\n",
      "[1, 2, 3, 4]\n",
      "[1, 5, 3, 4]\n"
     ]
    }
   ],
   "source": [
    "#Example for mutable\n",
    "my_list = [1, 2, 3]\n",
    "print(my_list)  # Output: [1, 2, 3]\n",
    "\n",
    "my_list.append(4)\n",
    "print(my_list)  # Output: [1, 2, 3, 4]\n",
    "\n",
    "my_list[1] = 5\n",
    "print(my_list)  # Output: [1, 5, 3, 4]"
   ]
  },
  {
   "cell_type": "code",
   "execution_count": 7,
   "id": "b4def09e-d2d5-41ba-8f9a-ea8400058817",
   "metadata": {},
   "outputs": [
    {
     "name": "stdout",
     "output_type": "stream",
     "text": [
      "5\n",
      "6\n"
     ]
    }
   ],
   "source": [
    "# Example of immutable\n",
    "x = 5\n",
    "print(x)  # Output: 5\n",
    "\n",
    "x = x + 1\n",
    "print(x)  # Output: 6"
   ]
  },
  {
   "cell_type": "code",
   "execution_count": null,
   "id": "fabf9cb2-bd7d-49a9-9d4b-dab607f4daa5",
   "metadata": {},
   "outputs": [],
   "source": []
  }
 ],
 "metadata": {
  "kernelspec": {
   "display_name": "Python 3 (ipykernel)",
   "language": "python",
   "name": "python3"
  },
  "language_info": {
   "codemirror_mode": {
    "name": "ipython",
    "version": 3
   },
   "file_extension": ".py",
   "mimetype": "text/x-python",
   "name": "python",
   "nbconvert_exporter": "python",
   "pygments_lexer": "ipython3",
   "version": "3.10.8"
  }
 },
 "nbformat": 4,
 "nbformat_minor": 5
}
