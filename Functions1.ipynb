{
 "cells": [
  {
   "cell_type": "markdown",
   "id": "d25ac003-abfb-4480-b745-f203ff7faeb1",
   "metadata": {},
   "source": [
    "Q1. Which keyword is used to create a function? Create a function to return a list of odd numbers in the range of 1 to 25."
   ]
  },
  {
   "cell_type": "markdown",
   "id": "f422ac71-81bd-42ef-b42b-14286a81fb4e",
   "metadata": {},
   "source": [
    "\"def\" keyword is used to create a function"
   ]
  },
  {
   "cell_type": "code",
   "execution_count": 14,
   "id": "a10cbae1-8278-4f80-8139-490eb330979f",
   "metadata": {},
   "outputs": [
    {
     "name": "stdout",
     "output_type": "stream",
     "text": [
      "[1, 3, 5, 7, 9, 11, 13, 15, 17, 19, 21, 23, 25]\n"
     ]
    }
   ],
   "source": [
    "def odd_num():\n",
    "    a = []\n",
    "    for i in range(1, 26):\n",
    "        if i % 2 != 0:\n",
    "            a.append(i)\n",
    "    return a\n",
    "\n",
    "result = odd_num()\n",
    "print(result)"
   ]
  },
  {
   "cell_type": "markdown",
   "id": "5f8e3180-3921-4774-a507-3dce442ddafc",
   "metadata": {},
   "source": [
    "Q2. Why *args and **kwargs is used in some functions? Create a function each for *args and **kwargs\n",
    "to demonstrate their use."
   ]
  },
  {
   "cell_type": "markdown",
   "id": "b2743538-e43e-4849-be9f-7f5b56db2017",
   "metadata": {},
   "source": [
    "*args is used to pass an argument in the function. The word 'args' can be anything, your name as well. The main role is of * which is passing multiple inputs.\n",
    "\n",
    "**kwargs defines the keyword arg function. It returns n number of input which w e give irrespective like *args. The output is in the form of dictionaries."
   ]
  },
  {
   "cell_type": "code",
   "execution_count": 6,
   "id": "0abcf132-be65-45c2-8372-28065f2ab316",
   "metadata": {},
   "outputs": [],
   "source": [
    "#function for *args\n",
    "def test(*args):\n",
    "    for i in args:\n",
    "        print(i)"
   ]
  },
  {
   "cell_type": "code",
   "execution_count": 8,
   "id": "bc497cc7-b75e-4dc8-95b1-633361ef2ef0",
   "metadata": {},
   "outputs": [
    {
     "name": "stdout",
     "output_type": "stream",
     "text": [
      "Hello\n"
     ]
    }
   ],
   "source": [
    "test('Hello')"
   ]
  },
  {
   "cell_type": "code",
   "execution_count": 9,
   "id": "9ecee130-dade-45ef-bf59-2f4c886dac7f",
   "metadata": {},
   "outputs": [
    {
     "name": "stdout",
     "output_type": "stream",
     "text": [
      "This\n",
      "is\n",
      "my\n",
      "name\n",
      "Vedant\n"
     ]
    }
   ],
   "source": [
    "test('This', 'is', 'my', 'name' ,'Vedant')"
   ]
  },
  {
   "cell_type": "code",
   "execution_count": 14,
   "id": "228bed11-3993-4658-ad08-2df63968dba2",
   "metadata": {},
   "outputs": [
    {
     "name": "stdout",
     "output_type": "stream",
     "text": [
      "name Vedant\n",
      "age 20\n",
      "city Kalyan\n"
     ]
    }
   ],
   "source": [
    "#function for **kwargs\n",
    "def test1(**kwargs):\n",
    "    for key, value in kwargs.items():\n",
    "        print(key, value)\n",
    "\n",
    "test1(name='Vedant', age=20, city='Kalyan')"
   ]
  },
  {
   "cell_type": "markdown",
   "id": "1777964a-a528-4d3b-99c9-a29a708eeb3c",
   "metadata": {},
   "source": [
    "Q3. What is an iterator in python? Name the method used to initialise the iterator object and the method\n",
    "used for iteration. Use these methods to print the first five elements of the given list [2, 4, 6, 8, 10, 12, 14,\n",
    "16, 18, 20]."
   ]
  },
  {
   "cell_type": "markdown",
   "id": "60f1baba-31d8-4f62-a55c-dd2d6e9dda06",
   "metadata": {},
   "source": [
    "In Python, an iterator is an object that allows iteration over a collection of elements, such as a list. It provides a way to access the elements sequentially without the need to know the internal structure of the collection.\n",
    "\n",
    "To initialize an iterator object in Python, you can use the iter() function. "
   ]
  },
  {
   "cell_type": "markdown",
   "id": "66a4782b-658a-41b3-9dcd-d7db85e55db0",
   "metadata": {},
   "source": [
    "Here's an example of how to initialize an iterator object and iterate over the first five elements of the given list [2, 4, 6, 8, 10, 12, 14, 16, 18, 20]:"
   ]
  },
  {
   "cell_type": "code",
   "execution_count": 2,
   "id": "7cbea021-b8fa-4fc0-9c45-6afe04765e6c",
   "metadata": {},
   "outputs": [
    {
     "name": "stdout",
     "output_type": "stream",
     "text": [
      "2\n",
      "4\n",
      "6\n",
      "8\n",
      "10\n"
     ]
    }
   ],
   "source": [
    "my_list = [2, 4, 6, 8, 10, 12, 14, 16, 18, 20]\n",
    "\n",
    "my_iterator = iter(my_list)\n",
    "\n",
    "for _ in range(5):\n",
    "    element = next(my_iterator)\n",
    "    print(element)\n"
   ]
  },
  {
   "cell_type": "markdown",
   "id": "9c14d2b7-f30f-4b49-a1e6-7a884486fbcc",
   "metadata": {},
   "source": [
    "Q4. What is a generator function in python? Why yield keyword is used? Give an example of a generator function."
   ]
  },
  {
   "cell_type": "markdown",
   "id": "7bde4aaa-5c6f-4576-aa50-3d175b8a76b5",
   "metadata": {},
   "source": [
    "A generator function in Python is a special type of function that generates a sequence of values using the yield keyword. The yield keyword is used in generator functions to specify the values to be generated. When a generator function is called, it returns an iterator object, which can be used to iterate over the sequence of values."
   ]
  },
  {
   "cell_type": "code",
   "execution_count": 5,
   "id": "ac952cbb-08ee-4c8e-a326-33b2365bf4e5",
   "metadata": {},
   "outputs": [
    {
     "name": "stdout",
     "output_type": "stream",
     "text": [
      "1\n",
      "2\n",
      "3\n",
      "4\n",
      "5\n"
     ]
    }
   ],
   "source": [
    "#example of a generator function that generates a sequence of numbers from 1 to n:\n",
    "\n",
    "def number_generator(n):\n",
    "    i = 1\n",
    "    while i <= n:\n",
    "        yield i\n",
    "        i += 1\n",
    "\n",
    "generator = number_generator(5) # Create a generator object\n",
    "\n",
    "for num in generator:\n",
    "    print(num)\n"
   ]
  },
  {
   "cell_type": "markdown",
   "id": "230fc577-c669-4c61-9c87-48aa9f97d360",
   "metadata": {},
   "source": [
    "Q5. Create a generator function for prime numbers less than 1000. Use the next() method to print the\n",
    "first 20 prime numbers."
   ]
  },
  {
   "cell_type": "code",
   "execution_count": 48,
   "id": "bd459fc9-123d-4354-81f2-54703a070014",
   "metadata": {},
   "outputs": [
    {
     "name": "stdout",
     "output_type": "stream",
     "text": [
      "2\n",
      "3\n",
      "5\n",
      "7\n",
      "11\n",
      "13\n",
      "17\n",
      "19\n",
      "23\n",
      "29\n",
      "31\n",
      "37\n",
      "41\n",
      "43\n",
      "47\n",
      "53\n",
      "59\n",
      "61\n",
      "67\n",
      "71\n"
     ]
    }
   ],
   "source": [
    "def prime(n):\n",
    "    prime_num = []\n",
    "    num = 2\n",
    "    while num < n:\n",
    "        if all(num % prime != 0 for prime in prime_num):\n",
    "            prime_num.append(num)\n",
    "            yield num\n",
    "        num += 1\n",
    "\n",
    "test_gene = prime(1000)\n",
    "\n",
    "for _ in range(20):\n",
    "    prime = next(test_gene)\n",
    "    print(prime)"
   ]
  },
  {
   "cell_type": "markdown",
   "id": "1398ac80-6c4c-404a-ad24-84a9c0b3ef29",
   "metadata": {},
   "source": [
    "Q6. Write a python program to print the first 10 Fibonacci numbers using a while loop."
   ]
  },
  {
   "cell_type": "code",
   "execution_count": 33,
   "id": "bea4fe3c-a756-4d7b-9cae-ee4127ca0187",
   "metadata": {},
   "outputs": [],
   "source": [
    "def test_fib(n):\n",
    "    a,b = 0,1\n",
    "    while True:\n",
    "        yield a \n",
    "        a,b = b,a+b"
   ]
  },
  {
   "cell_type": "code",
   "execution_count": 43,
   "id": "84e76217-7a71-4d8a-bec3-6fd0ee69c5e3",
   "metadata": {},
   "outputs": [
    {
     "name": "stdout",
     "output_type": "stream",
     "text": [
      "<generator object test_fib at 0x7f2aa01e30d0>\n",
      "0\n",
      "1\n",
      "1\n",
      "2\n",
      "3\n",
      "5\n",
      "8\n",
      "13\n",
      "21\n",
      "34\n"
     ]
    }
   ],
   "source": [
    "a = test_fib(10)\n",
    "print(a)\n",
    "\n",
    "for i in range(10):\n",
    "    fib_num = next(a)\n",
    "    print(fib_num)"
   ]
  },
  {
   "cell_type": "code",
   "execution_count": 44,
   "id": "b148edf4-1498-4bf1-9191-39b0fea95798",
   "metadata": {},
   "outputs": [],
   "source": [
    "#Another approach"
   ]
  },
  {
   "cell_type": "code",
   "execution_count": 47,
   "id": "79563523-1d46-484b-85c3-3387b7113792",
   "metadata": {},
   "outputs": [
    {
     "name": "stdout",
     "output_type": "stream",
     "text": [
      "0\n",
      "1\n",
      "1\n",
      "2\n",
      "3\n",
      "5\n",
      "8\n",
      "13\n",
      "21\n",
      "34\n"
     ]
    }
   ],
   "source": [
    "a, b = 0, 1\n",
    "count = 0\n",
    "\n",
    "while count < 10:\n",
    "    print(a)\n",
    "    a, b = b, a + b\n",
    "    count += 1"
   ]
  },
  {
   "cell_type": "markdown",
   "id": "0e5272c9-73bd-4239-ae43-b1e4a0dbf9bc",
   "metadata": {},
   "source": [
    "Q7. Write a List Comprehension to iterate through the given string: ‘pwskills’.\n",
    "Expected output: ['p', 'w', 's', 'k', 'i', 'l', 'l', 's']"
   ]
  },
  {
   "cell_type": "code",
   "execution_count": 63,
   "id": "3f4e00c8-a852-4bad-9c33-6ed2080b008f",
   "metadata": {
    "tags": []
   },
   "outputs": [
    {
     "name": "stdout",
     "output_type": "stream",
     "text": [
      "['p', 'w', 's', 'k', 'i', 'l', 'l', 's']\n"
     ]
    }
   ],
   "source": [
    "a = 'pwskills'\n",
    "b = []\n",
    "for i in a:\n",
    "    b.append(i)\n",
    "    \n",
    "final_list = b[-8:]\n",
    "print(final_list)"
   ]
  },
  {
   "cell_type": "markdown",
   "id": "b64ccaba-3044-42df-89fc-c60789453d53",
   "metadata": {},
   "source": [
    "Q8. Write a python program to check whether a given number is Palindrome or not using a while loop."
   ]
  },
  {
   "cell_type": "code",
   "execution_count": 77,
   "id": "20e405a5-a54c-42e3-87ea-7e99d1ea0658",
   "metadata": {},
   "outputs": [
    {
     "name": "stdin",
     "output_type": "stream",
     "text": [
      "Enter the number: 36963\n"
     ]
    },
    {
     "name": "stdout",
     "output_type": "stream",
     "text": [
      "The number is a palindrome number.\n"
     ]
    }
   ],
   "source": [
    "i = int(input(\"Enter the number:\"))\n",
    "x = i\n",
    "rev = 0\n",
    "\n",
    "while(i>0):\n",
    "    rev = rev*10+i %10\n",
    "    i = i//10\n",
    "    \n",
    "if (x == rev):\n",
    "    print(\"The number is a palindrome number.\")\n",
    "else:\n",
    "    print(\"The number is not a palindrome number.\")"
   ]
  },
  {
   "cell_type": "markdown",
   "id": "89c8c906-9042-4ae4-81ce-2cfe00c6b081",
   "metadata": {},
   "source": [
    "Q9. Write a code to print odd numbers from 1 to 100 using list comprehension.\n",
    "\n",
    "Note: Use a list comprehension to create a list from 1 to 100 and use another List comprehension to filter\n",
    "out odd numbers."
   ]
  },
  {
   "cell_type": "code",
   "execution_count": 89,
   "id": "0728015d-e333-4e68-b7cc-31581b525fe2",
   "metadata": {},
   "outputs": [
    {
     "name": "stdout",
     "output_type": "stream",
     "text": [
      "The below is the list of numbers from 1 to 100\n",
      "a = [1, 2, 3, 4, 5, 6, 7, 8, 9, 10, 11, 12, 13, 14, 15, 16, 17, 18, 19, 20, 21, 22, 23, 24, 25, 26, 27, 28, 29, 30, 31, 32, 33, 34, 35, 36, 37, 38, 39, 40, 41, 42, 43, 44, 45, 46, 47, 48, 49, 50, 51, 52, 53, 54, 55, 56, 57, 58, 59, 60, 61, 62, 63, 64, 65, 66, 67, 68, 69, 70, 71, 72, 73, 74, 75, 76, 77, 78, 79, 80, 81, 82, 83, 84, 85, 86, 87, 88, 89, 90, 91, 92, 93, 94, 95, 96, 97, 98, 99, 100]\n",
      " \n",
      "The below is the list of odd numbers between 1 to 100\n",
      "b = [1, 3, 5, 7, 9, 11, 13, 15, 17, 19, 21, 23, 25, 27, 29, 31, 33, 35, 37, 39, 41, 43, 45, 47, 49, 51, 53, 55, 57, 59, 61, 63, 65, 67, 69, 71, 73, 75, 77, 79, 81, 83, 85, 87, 89, 91, 93, 95, 97, 99]\n"
     ]
    }
   ],
   "source": [
    "a = []\n",
    "b = []\n",
    "for i in range(1,101):\n",
    "    a.append(i)\n",
    "    if i % 2 !=0:\n",
    "        b.append(i)\n",
    "      #  print(i, \"is an odd number\")\n",
    "print(\"The below is the list of numbers from 1 to 100\")\n",
    "print(\"a =\",a)\n",
    "print(\" \")\n",
    "print(\"The below is the list of odd numbers between 1 to 100\")\n",
    "print(\"b =\",b)\n"
   ]
  },
  {
   "cell_type": "code",
   "execution_count": null,
   "id": "14c564ee-0093-4581-a0f2-cf3623efff1c",
   "metadata": {},
   "outputs": [],
   "source": []
  }
 ],
 "metadata": {
  "kernelspec": {
   "display_name": "Python 3 (ipykernel)",
   "language": "python",
   "name": "python3"
  },
  "language_info": {
   "codemirror_mode": {
    "name": "ipython",
    "version": 3
   },
   "file_extension": ".py",
   "mimetype": "text/x-python",
   "name": "python",
   "nbconvert_exporter": "python",
   "pygments_lexer": "ipython3",
   "version": "3.10.8"
  }
 },
 "nbformat": 4,
 "nbformat_minor": 5
}
